{
 "cells": [
  {
   "cell_type": "code",
   "execution_count": null,
   "metadata": {},
   "outputs": [],
   "source": [
    "import pandas as pd \n",
    "from sklearn import datasets\n",
    "import matplotlib.pyplot as plt\n",
    "from ConvexHull_v2 import ConvexHull_v2\n",
    "\n",
    "# USER INTERFACE\n",
    "print(\"Selamat datang di Uji Coba Convex Hull v.2.0.1\")\n",
    "print(\"~~~~~~~~~~~~~~~~~~~~~~~~~~~~~~~~~~~~~~~~~~~~~~\")\n",
    "print(\"Terdapat beberapa pilihan visualisasi :\")\n",
    "print(\"    1. Sepal Width (y) vs Sepal Length (x)    :: IRIS-Datasets\")\n",
    "print(\"    2. Petal Width (y) vs Petal Length (x)    :: IRIS-Datasets\")\n",
    "print(\"    3. Color Intensity (y) vs Alcohol % (x)   :: WINE-Datasets\")\n",
    "print(\"    4. Flavanoids (y) vs Total Phenols (x)    :: WINE-Datasets\")\n",
    "pil = int(input(\"Masukkan pilihan : \"))\n",
    "\n",
    "while not(1<=pil<=4):\n",
    "    print(\"Masukan anda tidak sesuai..!! Harap masukkan pilihan kembali..!!\")\n",
    "    print(\"    1. Sepal Width (y) vs Sepal Length (x)    :: IRIS-Datasets\")\n",
    "    print(\"    2. Petal Width (y) vs Petal Length (x)    :: IRIS-Datasets\")\n",
    "    print(\"    3. Color Intensity (y) vs Alcohol % (x)   :: WINE-Datasets\")\n",
    "    print(\"    4. Flavanoids (y) vs Total Phenols (x)    :: WINE-Datasets\")\n",
    "    pil = int(input(\"Masukkan pilihan : \"))\n",
    "\n",
    "print(\"Pilihan anda adalah :\",pil)\n",
    "\n",
    "if (pil==1 or pil==2):\n",
    "    data = datasets.load_iris()\n",
    "    if pil==1:\n",
    "        title = 'Sepal Width vs Sepal Length'\n",
    "        col1 = 0\n",
    "        col2 = 1\n",
    "    elif pil==2:\n",
    "        title = 'Petal Width vs Petal Length' \n",
    "        col1 = 2\n",
    "        col2 = 3\n",
    "elif (pil==3 or pil==4):\n",
    "    data = datasets.load_wine()\n",
    "    if pil==3:\n",
    "        title = 'Alcohol vs Color Intensity'\n",
    "        col1 = 0\n",
    "        col2 = 9\n",
    "    elif pil==4:\n",
    "        title = 'Total Phenols vs Flavanoids' \n",
    "        col1 = 5\n",
    "        col2 = 6"
   ]
  },
  {
   "cell_type": "code",
   "execution_count": null,
   "metadata": {},
   "outputs": [],
   "source": [
    "#create a DataFrame \n",
    "df = pd.DataFrame(data.data, columns=data.feature_names)\n",
    "df['Target'] = pd.DataFrame(data.target)\n",
    "print()\n",
    "print(\"Berikut Contoh Data yang Diolah :\")\n",
    "df.head()"
   ]
  },
  {
   "cell_type": "code",
   "execution_count": null,
   "metadata": {},
   "outputs": [],
   "source": [
    "# Visualizing Datasets\n",
    "colors = ['b','r','g']\n",
    "plt.figure(figsize = (10, 6))\n",
    "plt.title(title)\n",
    "plt.xlabel(data.feature_names[col1])\n",
    "plt.ylabel(data.feature_names[col2])\n",
    "\n",
    "print(\"Berikut Visualisasi Data yang Diolah :\")\n",
    "for i in range(len(data.target_names)):\n",
    "    each = df[df['Target'] == i]                # untuk mengambil data dengan target yang seragam\n",
    "    bucket = each.iloc[:,[col1,col2]].values    # untuk mendapatkan aray berupa posisi x dan y, berukuran n x 2, n adalah banyak data\n",
    "    simplices = ConvexHull_v2(bucket)           # bagian ini diganti dengan hasil implementasi ConvexHull Divide & Conquer\n",
    "    plt.scatter(bucket[:, 0], bucket[:, 1], label=data.target_names[i])\n",
    "    for simplex in simplices:\n",
    "        plt.plot(bucket[simplex, 0], bucket[simplex, 1], colors[i])\n",
    "plt.legend()"
   ]
  }
 ],
 "metadata": {
  "interpreter": {
   "hash": "247ab06e135bb35fa78c5eff31b2a9a0050dcb5fb773c2631d2a29ac689eeccb"
  },
  "kernelspec": {
   "display_name": "Python 3.9.6 64-bit",
   "language": "python",
   "name": "python3"
  },
  "language_info": {
   "codemirror_mode": {
    "name": "ipython",
    "version": 3
   },
   "file_extension": ".py",
   "mimetype": "text/x-python",
   "name": "python",
   "nbconvert_exporter": "python",
   "pygments_lexer": "ipython3",
   "version": "3.9.6"
  },
  "orig_nbformat": 4
 },
 "nbformat": 4,
 "nbformat_minor": 2
}
