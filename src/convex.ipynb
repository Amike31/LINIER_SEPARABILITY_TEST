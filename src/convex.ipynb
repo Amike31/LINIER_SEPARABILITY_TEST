{
 "cells": [
  {
   "cell_type": "code",
   "execution_count": null,
   "metadata": {},
   "outputs": [],
   "source": [
    "import numpy as np \n",
    "import pandas as pd \n",
    "import matplotlib.pyplot as plt \n",
    "from sklearn import datasets \n",
    "data = datasets.load_iris() \n",
    "#create a DataFrame \n",
    "df = pd.DataFrame(data.data, columns=data.feature_names) \n",
    "df['Target'] = pd.DataFrame(data.target)\n",
    "print(df.shape)\n",
    "df.head()"
   ]
  },
  {
   "cell_type": "code",
   "execution_count": null,
   "metadata": {},
   "outputs": [],
   "source": [
    "#visualisasi hasil ConvexHull\n",
    "import matplotlib.pyplot as plt\n",
    "from scipy.spatial import ConvexHull\n",
    "plt.figure(figsize = (10, 6))\n",
    "colors = ['b','r','g']\n",
    "plt.title('Petal Width vs Petal Length')\n",
    "plt.xlabel(data.feature_names[0])\n",
    "plt.ylabel(data.feature_names[1])\n",
    "for i in range(len(data.target_names)):\n",
    "    bucket = df[df['Target'] == i]              # untuk mengambil data dengan target yang seragam\n",
    "    bucket = bucket.iloc[:,[0,1]].values        # untuk mendapatkan aray berupa posisi x dan y, berukuran n x 2, n adalah banyak data\n",
    "    hull = ConvexHull(bucket)                   #bagian ini diganti dengan hasil implementasi ConvexHull Divide & Conquer\n",
    "    plt.scatter(bucket[:, 0], bucket[:, 1], label=data.target_names[i])\n",
    "    for simplex in hull.simplices:\n",
    "        plt.plot(bucket[simplex, 0], bucket[simplex, 1], colors[i])\n",
    "plt.legend()"
   ]
  },
  {
   "cell_type": "code",
   "execution_count": null,
   "metadata": {},
   "outputs": [],
   "source": [
    "bucket0 = df[df['Target'] == 0]\n",
    "bucket0.head()"
   ]
  },
  {
   "cell_type": "code",
   "execution_count": null,
   "metadata": {},
   "outputs": [],
   "source": [
    "bucket0 = bucket0.iloc[:,[0,1]].values\n",
    "bucket0"
   ]
  },
  {
   "cell_type": "code",
   "execution_count": null,
   "metadata": {},
   "outputs": [],
   "source": [
    "hull0 = ConvexHull(bucket0)\n",
    "hull0.simplices"
   ]
  },
  {
   "cell_type": "code",
   "execution_count": null,
   "metadata": {},
   "outputs": [],
   "source": [
    "for simpul in hull0.simplices:\n",
    "    print(simpul)\n",
    "    break\n",
    "simpul\n",
    "bucket0[simpul,0]\n",
    "# bucket0[simpul,1]"
   ]
  },
  {
   "cell_type": "code",
   "execution_count": 121,
   "metadata": {},
   "outputs": [],
   "source": [
    "# bucket1 = df[df['Target'] == 1]\n",
    "# bucket1.head()"
   ]
  },
  {
   "cell_type": "code",
   "execution_count": 122,
   "metadata": {},
   "outputs": [],
   "source": [
    "# bucket1 = bucket1.iloc[:,[0,1]].values\n",
    "# hull1 = ConvexHull(bucket1)\n",
    "# hull1.simplices"
   ]
  },
  {
   "cell_type": "code",
   "execution_count": null,
   "metadata": {},
   "outputs": [],
   "source": [
    "plt.plot([1,1],[1,2],'b')\n",
    "plt.plot([1,2],[2,2],'r')\n",
    "plt.plot([2,1],[2,1],'g')"
   ]
  }
 ],
 "metadata": {
  "interpreter": {
   "hash": "247ab06e135bb35fa78c5eff31b2a9a0050dcb5fb773c2631d2a29ac689eeccb"
  },
  "kernelspec": {
   "display_name": "Python 3.9.6 64-bit",
   "language": "python",
   "name": "python3"
  },
  "language_info": {
   "codemirror_mode": {
    "name": "ipython",
    "version": 3
   },
   "file_extension": ".py",
   "mimetype": "text/x-python",
   "name": "python",
   "nbconvert_exporter": "python",
   "pygments_lexer": "ipython3",
   "version": "3.9.6"
  },
  "orig_nbformat": 4
 },
 "nbformat": 4,
 "nbformat_minor": 2
}
