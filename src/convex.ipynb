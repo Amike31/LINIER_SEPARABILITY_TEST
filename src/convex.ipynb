{
 "cells": [
  {
   "cell_type": "code",
   "execution_count": 1,
   "metadata": {},
   "outputs": [
    {
     "name": "stdout",
     "output_type": "stream",
     "text": [
      "(150, 5)\n"
     ]
    },
    {
     "data": {
      "text/html": [
       "<div>\n",
       "<style scoped>\n",
       "    .dataframe tbody tr th:only-of-type {\n",
       "        vertical-align: middle;\n",
       "    }\n",
       "\n",
       "    .dataframe tbody tr th {\n",
       "        vertical-align: top;\n",
       "    }\n",
       "\n",
       "    .dataframe thead th {\n",
       "        text-align: right;\n",
       "    }\n",
       "</style>\n",
       "<table border=\"1\" class=\"dataframe\">\n",
       "  <thead>\n",
       "    <tr style=\"text-align: right;\">\n",
       "      <th></th>\n",
       "      <th>sepal length (cm)</th>\n",
       "      <th>sepal width (cm)</th>\n",
       "      <th>petal length (cm)</th>\n",
       "      <th>petal width (cm)</th>\n",
       "      <th>Target</th>\n",
       "    </tr>\n",
       "  </thead>\n",
       "  <tbody>\n",
       "    <tr>\n",
       "      <th>0</th>\n",
       "      <td>5.1</td>\n",
       "      <td>3.5</td>\n",
       "      <td>1.4</td>\n",
       "      <td>0.2</td>\n",
       "      <td>0</td>\n",
       "    </tr>\n",
       "    <tr>\n",
       "      <th>1</th>\n",
       "      <td>4.9</td>\n",
       "      <td>3.0</td>\n",
       "      <td>1.4</td>\n",
       "      <td>0.2</td>\n",
       "      <td>0</td>\n",
       "    </tr>\n",
       "    <tr>\n",
       "      <th>2</th>\n",
       "      <td>4.7</td>\n",
       "      <td>3.2</td>\n",
       "      <td>1.3</td>\n",
       "      <td>0.2</td>\n",
       "      <td>0</td>\n",
       "    </tr>\n",
       "    <tr>\n",
       "      <th>3</th>\n",
       "      <td>4.6</td>\n",
       "      <td>3.1</td>\n",
       "      <td>1.5</td>\n",
       "      <td>0.2</td>\n",
       "      <td>0</td>\n",
       "    </tr>\n",
       "    <tr>\n",
       "      <th>4</th>\n",
       "      <td>5.0</td>\n",
       "      <td>3.6</td>\n",
       "      <td>1.4</td>\n",
       "      <td>0.2</td>\n",
       "      <td>0</td>\n",
       "    </tr>\n",
       "  </tbody>\n",
       "</table>\n",
       "</div>"
      ],
      "text/plain": [
       "   sepal length (cm)  sepal width (cm)  petal length (cm)  petal width (cm)  \\\n",
       "0                5.1               3.5                1.4               0.2   \n",
       "1                4.9               3.0                1.4               0.2   \n",
       "2                4.7               3.2                1.3               0.2   \n",
       "3                4.6               3.1                1.5               0.2   \n",
       "4                5.0               3.6                1.4               0.2   \n",
       "\n",
       "   Target  \n",
       "0       0  \n",
       "1       0  \n",
       "2       0  \n",
       "3       0  \n",
       "4       0  "
      ]
     },
     "execution_count": 1,
     "metadata": {},
     "output_type": "execute_result"
    }
   ],
   "source": [
    "import numpy as np \n",
    "import pandas as pd \n",
    "import matplotlib.pyplot as plt \n",
    "from sklearn import datasets \n",
    "data = datasets.load_iris() \n",
    "#create a DataFrame \n",
    "df = pd.DataFrame(data.data, columns=data.feature_names) \n",
    "df['Target'] = pd.DataFrame(data.target)\n",
    "print(df.shape)\n",
    "df.head()\n",
    "# df1 = df[df['Target'] == 0]\n",
    "# df1.sort_values(df[\"sepal length (cm)\"])"
   ]
  },
  {
   "cell_type": "code",
   "execution_count": null,
   "metadata": {},
   "outputs": [],
   "source": []
  },
  {
   "cell_type": "code",
   "execution_count": 2,
   "metadata": {},
   "outputs": [
    {
     "data": {
      "text/plain": [
       "<matplotlib.legend.Legend at 0x240a18ec9d0>"
      ]
     },
     "execution_count": 2,
     "metadata": {},
     "output_type": "execute_result"
    },
    {
     "data": {
      "image/png": "[encoded data removed]",
      "text/plain": [
       "<Figure size 720x432 with 1 Axes>"
      ]
     },
     "metadata": {
      "needs_background": "light"
     },
     "output_type": "display_data"
    }
   ],
   "source": [
    "#visualisasi hasil ConvexHull\n",
    "import matplotlib.pyplot as plt\n",
    "from scipy.spatial import ConvexHull\n",
    "from initHull import *\n",
    "plt.figure(figsize = (10, 6))\n",
    "colors = ['b','r','g']\n",
    "plt.title('Petal Width vs Petal Length')\n",
    "plt.xlabel(data.feature_names[0])\n",
    "plt.ylabel(data.feature_names[1])\n",
    "for i in range(len(data.target_names)):\n",
    "    if i==1:\n",
    "        break\n",
    "    bucket = df[df['Target'] == i]              # untuk mengambil data dengan target yang seragam\n",
    "    bucket = bucket.iloc[:,[0,1]].values        # untuk mendapatkan aray berupa posisi x dan y, berukuran n x 2, n adalah banyak datasort\n",
    "    hull = ConvexHull(bucket)                  # bagian ini diganti dengan hasil implementasi ConvexHull Divide & Conquer\n",
    "    # simplice = NewConvexHull(bucket)\n",
    "    plt.scatter(bucket[:, 0], bucket[:, 1], label=data.target_names[i])\n",
    "    for simplex in hull.simplices:\n",
    "        plt.plot(bucket[simplex, 0], bucket[simplex, 1], colors[i])\n",
    "plt.legend()"
   ]
  },
  {
   "cell_type": "code",
   "execution_count": 3,
   "metadata": {},
   "outputs": [
    {
     "name": "stdout",
     "output_type": "stream",
     "text": [
      "[[5.1 3.5]\n",
      " [4.9 3. ]]\n"
     ]
    }
   ],
   "source": [
    "bucket = df[df['Target'] == 0]              # untuk mengambil data dengan target yang seragam\n",
    "bucket = bucket.iloc[:,[0,1]].values\n",
    "\n",
    "\n",
    "print(bucket[[0,1],:])"
   ]
  },
  {
   "cell_type": "code",
   "execution_count": 5,
   "metadata": {},
   "outputs": [
    {
     "name": "stdout",
     "output_type": "stream",
     "text": [
      "[[0, 33], [33, 15], [15, 14], [14, 18], [18, 36], [36, 20], [20, 25], [25, 1], [1, 49], [0, -1], [-1, 32], [32, 0], [0, 49]]\n"
     ]
    },
    {
     "name": "stderr",
     "output_type": "stream",
     "text": [
      "C:\\Users\\user\\AppData\\Local\\Temp/ipykernel_12028/2909087811.py:18: RuntimeWarning: invalid value encountered in arccos\n",
      "  return np.arccos(cosine)\n",
      "C:\\Users\\user\\AppData\\Local\\Temp/ipykernel_12028/2909087811.py:10: RuntimeWarning: invalid value encountered in true_divide\n",
      "  return np.cross(p2-p1,p3-p1)/np.linalg.norm(p2-p1)\n"
     ]
    },
    {
     "data": {
      "text/plain": [
       "<matplotlib.legend.Legend at 0x240a1b41fd0>"
      ]
     },
     "execution_count": 5,
     "metadata": {},
     "output_type": "execute_result"
    },
    {
     "data": {
      "image/png": "[encoded data removed]",
      "text/plain": [
       "<Figure size 720x432 with 1 Axes>"
      ]
     },
     "metadata": {
      "needs_background": "light"
     },
     "output_type": "display_data"
    }
   ],
   "source": [
    "def DetFrom3Point(p1,p2,p3):\n",
    "    mat = np.array([[1,1,1],\n",
    "                    [p1[0],p2[0],p3[0]],\n",
    "                    [p1[1],p2[1],p3[1]]])\n",
    "    return np.linalg.det(mat)\n",
    "\n",
    "def DistanceFromLine(p1,p2,p3):\n",
    "    ''' Fungsi: Menerima 2 buah titik (p1 dan p2) yang membentuk segmen garis dan mengembalikan jarak dari p3 ke garis tsb\n",
    "        Prekondisi : p1,p2,p3 adalah np.array 2 dimensi '''\n",
    "    return np.cross(p2-p1,p3-p1)/np.linalg.norm(p2-p1)\n",
    "\n",
    "def AngelFromLine(p1,p2,p3):\n",
    "    ''' Fungsi: Menerima 2 buah titik (p1 dan p2) yang membentuk segmen garis p1p2 dan mengembalikan sudut p3p1p2\n",
    "        Prekondisi : p1,p2,p3 adalah np.array 2 dimensi '''\n",
    "    ba = p3 - p1\n",
    "    bc = p2 - p1\n",
    "    cosine = np.dot(ba, bc) / (np.linalg.norm(ba) * np.linalg.norm(bc))\n",
    "    return np.arccos(cosine)\n",
    "\n",
    "def NextSimplex(bucket,line,arr):             # UNTUK TAHAP KE-2 dst..\n",
    "    ''' Proses: - Menerima himpunan titik pada suatu daerah yang ditandai oleh elemen array \"arr\" sebagai \"indeks\" dari array \"bucket\"\n",
    "                - Array \"bucket\" memiliki elemen berupa titik secara universal\n",
    "                - Array \"line\" memiliki elemen berupa \"indeks\" dari array \"bucket\" yang merupakan garis batas daerah sebelumnya\n",
    "                - Fungsi akan mengembalikan simplex baru dari daerah tersebut\n",
    "        Prekondisi : Daerah tersebut tidak kosong, minimal elemen array \"arr\" ada 1 '''\n",
    "    \n",
    "    ''' 1. Cari titik terjauh (p3) sehingga membentuk 2 buah line baru\n",
    "           lineL adalah p1p3 berupa garis/ simplex sebelah KIRI\n",
    "           lineR adalah p3p2 berupa garis/ simplex sebelah KANAN '''\n",
    "    # a. Titik awal pada garis\n",
    "    p1 = bucket[line[0]]\n",
    "    \n",
    "    # b. Titik akhir pada garis\n",
    "    p2 = bucket[line[1]]\n",
    "    \n",
    "    d   = -1      # Jarak tidak mungkin negatif, inisiasi awal sebagai pembanding\n",
    "    idx = -1      # Indeks ditemukannya titik dengan jarak terjauh   \n",
    "    for i in arr:\n",
    "        X = bucket[i,0]\n",
    "        Y = bucket[i,1]\n",
    "        p3 = np.array([X,Y])\n",
    "        dTemp = DistanceFromLine(p1,p2,p3)\n",
    "        if   (dTemp > d) :\n",
    "            d   = dTemp\n",
    "            idx = i\n",
    "        elif ( dTemp==d ) :     # Jika jaraknya sama, makan bandingkan sudut\n",
    "            dtheta    = AngelFromLine(p1,p2,p3)\n",
    "            Temptheta = AngelFromLine(p1,p2,p3)\n",
    "            if (Temptheta > dtheta) :\n",
    "                d   = dTemp\n",
    "                idx = i\n",
    "        \n",
    "    ''' 2. Setelah didapat titik terjauh, bentuk 2 buah line baru '''\n",
    "    ### GARIS BAGIAN KIRI\n",
    "    lineL = [line[0],idx]\n",
    "    #   a. Titik awal pada garis\n",
    "    p1L = bucket[lineL[0]]\n",
    "    #   b. Titik akhir pada garis\n",
    "    p2L = bucket[lineL[1]]\n",
    "    \n",
    "    ### GARIS BAGIAN KANAN\n",
    "    lineR = [idx,line[1]]\n",
    "    #   a. Titik awal pada garis\n",
    "    p1R = bucket[lineR[0]]\n",
    "    #   b. Titik akhir pada garis\n",
    "    p2R = bucket[lineR[1]]\n",
    "        \n",
    "    ''' 3. Bagi kumpulan titik pada array \"arr\" menjadi 2 partisi, namun yg dipakai hanya partisi KIRI\n",
    "        Apabila berada pada garis p1-p3, maka abaikan '''   \n",
    "    arrL = []\n",
    "    arrR = []\n",
    "    ''' 3.1. Check di garis atau tidak untuk kedua garis batas baru, di garis (det=0) '''\n",
    "    for i in arr:\n",
    "        XX = bucket[i,0]\n",
    "        YY = bucket[i,1]\n",
    "        p3 = np.array([XX,YY])\n",
    "        \n",
    "        ''' 3.1.a. Check untuk bagian kiri lineL,\n",
    "            3.1.b. Check untuk bagian kiri lineR,\n",
    "            apabila (det>0) maka masukkan ke array selanjutnya untuk diperiksa '''\n",
    "        detL = DetFrom3Point(p1L,p2L,p3)\n",
    "        detR = DetFrom3Point(p1R,p2R,p3)\n",
    "        if   (detL > 0) :\n",
    "            arrL += [i]\n",
    "        elif (detR > 0) :\n",
    "            arrR += [i]        \n",
    "\n",
    "    ''' 3.4 CONQUER & COMBINE masing-masing sisi (INI TAHAP TERSULIT)'''\n",
    "    simplexL = []                            # {array simplex hanya menampung \"pasangan\" idx dari \"adjecency\" point}\n",
    "    simplexR = []                            # {array simplex hanya menampung \"pasangan\" idx dari \"adjecency\" point}\n",
    "    #  URUTAN CONQUER = KIRI -> KANAN\n",
    "    # K-1 : Apabila kiri kosong\n",
    "    if ( arrL==[] ) :\n",
    "        simplexL += [lineL]\n",
    "    else:\n",
    "        simplexL += NextSimplex(bucket,lineL,arrL)\n",
    "    if ( arrR==[] ) :\n",
    "        simplexR += [lineR]\n",
    "    else:\n",
    "        simplexR += NextSimplex(bucket,lineR,arrR)\n",
    "               \n",
    "    return simplexL+simplexR\n",
    "\n",
    "\n",
    "''' 2. Buat p1-pn sebagai line batas awal '''\n",
    "line = [0,len(bucket)-1]\n",
    "# a. Titik awal pada garis\n",
    "p1   = bucket[line[0]]\n",
    "# b. Titik akhir pada garis\n",
    "p2   = bucket[line[1]]\n",
    "\n",
    "''' 3. Bagi kumpulan titik yang lain menjadi 2 partisi\n",
    "    Apabila berada pada garis p1-pn, maka abaikan '''\n",
    "left  = []\n",
    "right = []\n",
    "''' 3.1. Check di garis atau tidak, di garis (det=0) '''\n",
    "for i in range(len(bucket)):\n",
    "    X = bucket[i,0]\n",
    "    Y = bucket[i,1]\n",
    "    p3 = np.array([X,Y])\n",
    "    det = DetFrom3Point(p1,p2,p3)\n",
    "    ''' 3.2 Jika tidak digaris, bagi menjadi bagian KIRI (det>0) dan KANAN (det<0) '''\n",
    "    if   (det > 0) :\n",
    "        left  += [i]\n",
    "    elif (det < 0) :\n",
    "        right += [i]\n",
    "\n",
    "''' 3.4 DIVIDE & CONQUER & COMBINE masing-masing sisi (INI TAHAP TERSULIT) '''\n",
    "simplex = []                                        # {array simplex hanya menampung \"pasangan\" idx dari \"adjecency\" point}\n",
    "#  URUTAN CONQUER = KIRI -> KANAN\n",
    "# K-1 : Apabila kiri kosong\n",
    "if ( left==[] ) :\n",
    "    # K-1.1 : Kanan kosong, maka simplex tetep\n",
    "    if ( right==[] ) :\n",
    "        simplex += [line]\n",
    "    # K-1.2 : Kanan ada, maka simplex diubah menjadi bagian kanan\n",
    "    else :\n",
    "        simplex += [line]\n",
    "        simplex += NextSimplex(bucket,line,right)\n",
    "        \n",
    "# K-2 : Apabila kiri ada, maka disimpan simpex batas, dan diubah menjadi bagian sebelah kiri\n",
    "else :\n",
    "    # K-2.1 : Kanan kosong, maka simplex diubah menjadi bagian kiri\n",
    "    if ( right==[] ) :\n",
    "        simplex += NextSimplex(bucket,line,left)\n",
    "        simplex += [line]\n",
    "    else :\n",
    "        simplex += NextSimplex(bucket,line,left)\n",
    "        simplex += NextSimplex(bucket,line,right)\n",
    "        \n",
    "print(simplex)\n",
    "plt.figure(figsize = (10, 6))\n",
    "colors = ['b','r','g']\n",
    "plt.title('Petal Width vs Petal Length')\n",
    "plt.xlabel(data.feature_names[0])\n",
    "plt.ylabel(data.feature_names[1])\n",
    "bucket = df[df['Target'] == 0]              # untuk mengambil data dengan target yang seragam\n",
    "bucket = bucket.iloc[:,[0,1]].values        # untuk mendapatkan aray berupa posisi x dan y, berukuran n x 2, n adalah banyak datasort\n",
    "# hull = ConvexHull(bucket)                   # bagian ini diganti dengan hasil implementasi ConvexHull Divide & Conquer\n",
    "\n",
    "plt.scatter(bucket[:, 0], bucket[:, 1], label=data.target_names[0])\n",
    "for simplec in simplex:\n",
    "    plt.plot(bucket[simplec, 0], bucket[simplec, 1], colors[0])\n",
    "plt.legend()"
   ]
  }
 ],
 "metadata": {
  "interpreter": {
   "hash": "247ab06e135bb35fa78c5eff31b2a9a0050dcb5fb773c2631d2a29ac689eeccb"
  },
  "kernelspec": {
   "display_name": "Python 3.9.6 64-bit",
   "language": "python",
   "name": "python3"
  },
  "language_info": {
   "codemirror_mode": {
    "name": "ipython",
    "version": 3
   },
   "file_extension": ".py",
   "mimetype": "text/x-python",
   "name": "python",
   "nbconvert_exporter": "python",
   "pygments_lexer": "ipython3",
   "version": "3.9.6"
  },
  "orig_nbformat": 4
 },
 "nbformat": 4,
 "nbformat_minor": 2
}
