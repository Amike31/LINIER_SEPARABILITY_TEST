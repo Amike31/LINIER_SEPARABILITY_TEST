{
 "cells": [
  {
   "cell_type": "code",
   "execution_count": null,
   "metadata": {},
   "outputs": [],
   "source": [
    "import pandas as pd \n",
    "from sklearn import datasets\n",
    "import matplotlib.pyplot as plt\n",
    "from ConvexHull_v2 import ConvexHull_v2\n",
    "\n",
    "print(\"Selamat datang di Uji Coba Convex Hull v.2.0.1\")\n",
    "print(\"~~~~~~~~~~~~~~~~~~~~~~~~~~~~~~~~~~~~~~~~~~~~~~\")\n",
    "print()\n",
    "print(\"\")\n",
    "\n",
    "\n",
    "\n",
    "\n",
    "data = datasets.load_iris() \n",
    "#create a DataFrame \n",
    "df = pd.DataFrame(data.data, columns=data.feature_names) \n",
    "df['Target'] = pd.DataFrame(data.target)\n",
    "#df.head()\n",
    "\n",
    "\n",
    "plt.figure(figsize = (10, 6))\n",
    "colors = ['b','r','g']\n",
    "plt.title('Petal Width vs Petal Length')\n",
    "plt.xlabel(data.feature_names[0])\n",
    "plt.ylabel(data.feature_names[1])\n",
    "for i in range(len(data.target_names)):\n",
    "    if i==2:\n",
    "        break\n",
    "    each = df[df['Target'] == i]              # untuk mengambil data dengan target yang seragam\n",
    "    bucket = each.iloc[:,[2,3]].values        # untuk mendapatkan aray berupa posisi x dan y, berukuran n x 2, n adalah banyak data\n",
    "    hull = ConvexHull_v2(bucket)                   # bagian ini diganti dengan hasil implementasi ConvexHull Divide & Conquer\n",
    "    plt.scatter(bucket[:, 0], bucket[:, 1], label=data.target_names[i])\n",
    "    for simplex in hull:\n",
    "        plt.plot(bucket[simplex, 0], bucket[simplex, 1], colors[i])\n",
    "plt.legend()"
   ]
  }
 ],
 "metadata": {
  "interpreter": {
   "hash": "247ab06e135bb35fa78c5eff31b2a9a0050dcb5fb773c2631d2a29ac689eeccb"
  },
  "kernelspec": {
   "display_name": "Python 3.9.6 64-bit",
   "language": "python",
   "name": "python3"
  },
  "language_info": {
   "name": "python",
   "version": "3.9.6"
  },
  "orig_nbformat": 4
 },
 "nbformat": 4,
 "nbformat_minor": 2
}
